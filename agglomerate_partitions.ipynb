{
 "cells": [
  {
   "cell_type": "code",
   "execution_count": 15,
   "metadata": {},
   "outputs": [],
   "source": [
    "import networkx as nx\n",
    "import random as r\n",
    "import operator\n",
    "\n",
    "#input graph G and number of desired districts k\n",
    "#outputs a k partition of G respresented as a list of lists\n",
    "def agglom(G,k):    \n",
    "    for n in (G.nodes()):  #initializes node attributes which track contractions\n",
    "        G.node[n]['seg'] = [n]\n",
    "    edges = {}\n",
    "    for e in (list(set(G.edges()) | set(nx.non_edges(G)))):  #initializes edge attributes which track \n",
    "        edges[e] = 1                                         #edge contractions, which informs edge weighting\n",
    "        \n",
    "    while len(G.nodes) > k and len(G.edges) > 0 : #iterates until desired districts are produced or there's no more edges\n",
    "        weight = 0\n",
    "        while r.uniform(0,1) > weight:            #rejection sampling for edge weighting\n",
    "            e = list(G.edges())[r.randint(0,len(G.edges)-1)]\n",
    "            weight = 1/edges[e]                                       #####edge contraction is weighted negatively. reciprocal\n",
    "        inter = list(set(G.neighbors(e[0])) & set(G.neighbors(e[1]))) ##### weighting grows too slowly for large graphs so other \n",
    "        for shared in inter:                                          ##### weighting strategies are suggested such as .9**(edges[e]**5 - 1)\n",
    "            if shared > e[1] : edges[(e[0],shared)] += edges[(e[1],shared)] \n",
    "            elif shared < e[0]: edges[(shared,e[0])] += edges[(shared,e[1])] #recording edge contraction\n",
    "            else : edges[(e[0],shared)] += edges[(shared,e[1])]\n",
    "        G.node[e[0]]['seg'] += (G.node[e[1]]['seg'])      #recording node contraction\n",
    "        G = nx.contracted_edge(G, e, self_loops = False)  #contraction occurs\n",
    "    result = nx.get_node_attributes(G,'seg')\n",
    "    out = list()\n",
    "    for w in result:\n",
    "        out.append(sorted(result[w]))  #formatting output\n",
    "    return out"
   ]
  },
  {
   "cell_type": "code",
   "execution_count": 16,
   "metadata": {},
   "outputs": [
    {
     "name": "stdout",
     "output_type": "stream",
     "text": [
      "[[0, 1, 2], [3, 4]]\n"
     ]
    }
   ],
   "source": [
    "#Example: \n",
    "G = nx.Graph()\n",
    "G.add_nodes_from(range(0,5)) #add nodes\n",
    "G.add_edges_from(nx.non_edges(G))\n",
    "print (agglom(G,2))"
   ]
  }
 ],
 "metadata": {
  "kernelspec": {
   "display_name": "Python 3",
   "language": "python",
   "name": "python3"
  },
  "language_info": {
   "codemirror_mode": {
    "name": "ipython",
    "version": 3
   },
   "file_extension": ".py",
   "mimetype": "text/x-python",
   "name": "python",
   "nbconvert_exporter": "python",
   "pygments_lexer": "ipython3",
   "version": "3.6.5"
  }
 },
 "nbformat": 4,
 "nbformat_minor": 2
}
