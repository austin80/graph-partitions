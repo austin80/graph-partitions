{
 "cells": [
  {
   "cell_type": "code",
   "execution_count": 2,
   "metadata": {},
   "outputs": [],
   "source": [
    "import naive_graph_partitions\n",
    "\n",
    "#function 1: takes in a list of partitions and a list of their frequencies (with paired indices), outputs a histogram\n",
    "#Example: count_hist([[[0,1],[2]], [[0],[1,2]], [[1],[0,2]]], [50, 39, 8])\n",
    "#x-axis: the frequency of a partition \n",
    "#y-axis: the frequency partitions with that number of occurences\n",
    "#a uniform distribution would produce a nearly vertical line (as n approaches infinity)\n",
    "def count_hist(parts, frequencies):\n",
    "    return plt.hist(frequencies)"
   ]
  },
  {
   "cell_type": "code",
   "execution_count": 3,
   "metadata": {},
   "outputs": [],
   "source": [
    "import statistics\n",
    "\n",
    "#function 2: takes in a list of partitions and a list of their frequencies (with paired indices), outputs a histogram\n",
    "#x-axis: the degree of skewness of a partition as measured by mean district size minus median\n",
    "#y-axis: the frequency of a given degree of skewness\n",
    "#positive skew represents many small districts with a few or one large one\n",
    "#negative skew represents many medium districts and a small number of small districts\n",
    "#nearly 0 skew represents an evenly split district or a partition with just as many small districts as large ones\n",
    "def mean_med_hist(parts, freq):\n",
    "    diff = list()\n",
    "    for part in parts:\n",
    "        sizes = list(map(lambda l: len(l),part))\n",
    "        mean = sum(sizes)/len(part)\n",
    "        median = statistics.median(sizes)\n",
    "        diff.append(mean - median)\n",
    "    counts = list()\n",
    "    for i in range(len(freq)):\n",
    "        for j in range(freq[i]):\n",
    "            counts.append(diff[i])\n",
    "    return plt.hist(counts)"
   ]
  },
  {
   "cell_type": "code",
   "execution_count": null,
   "metadata": {},
   "outputs": [],
   "source": []
  }
 ],
 "metadata": {
  "kernelspec": {
   "display_name": "Python 3",
   "language": "python",
   "name": "python3"
  },
  "language_info": {
   "codemirror_mode": {
    "name": "ipython",
    "version": 3
   },
   "file_extension": ".py",
   "mimetype": "text/x-python",
   "name": "python",
   "nbconvert_exporter": "python",
   "pygments_lexer": "ipython3",
   "version": "3.6.5"
  }
 },
 "nbformat": 4,
 "nbformat_minor": 2
}
